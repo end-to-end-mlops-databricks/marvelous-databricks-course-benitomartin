{
 "cells": [
  {
   "cell_type": "markdown",
   "id": "7cc2cc3d-1584-48ae-9328-643d96a5688d",
   "metadata": {},
   "source": [
    "# Import Libraries"
   ]
  },
  {
   "cell_type": "code",
   "execution_count": null,
   "id": "4f532aaa",
   "metadata": {},
   "outputs": [],
   "source": [
    "import matplotlib.pyplot as plt\n",
    "import numpy as np\n",
    "import pandas as pd\n",
    "from imblearn.over_sampling import SMOTE\n",
    "from lightgbm import LGBMClassifier\n",
    "from sklearn.compose import ColumnTransformer\n",
    "from sklearn.metrics import classification_report, confusion_matrix, roc_auc_score\n",
    "from sklearn.model_selection import GridSearchCV, train_test_split\n",
    "from sklearn.preprocessing import RobustScaler"
   ]
  },
  {
   "cell_type": "markdown",
   "id": "4f3d54d7-3399-438d-ad99-1e6b51104a05",
   "metadata": {},
   "source": [
    "# Data Ingestion"
   ]
  },
  {
   "cell_type": "code",
   "execution_count": null,
   "id": "efb8757f",
   "metadata": {},
   "outputs": [],
   "source": [
    "filepath = \"../data/data.csv\"\n",
    "\n",
    "df = pd.read_csv(filepath)\n",
    "\n",
    "df.head()"
   ]
  },
  {
   "cell_type": "code",
   "execution_count": null,
   "id": "41d5f5a0",
   "metadata": {},
   "outputs": [],
   "source": [
    "# Dataframe information\n",
    "\n",
    "df.info()"
   ]
  },
  {
   "cell_type": "code",
   "execution_count": null,
   "id": "786b8b36",
   "metadata": {},
   "outputs": [],
   "source": [
    "# Statistical values for numerical colunns\n",
    "\n",
    "df.describe()"
   ]
  },
  {
   "cell_type": "markdown",
   "id": "b13d13b6-6fee-4117-9256-593e9469d027",
   "metadata": {},
   "source": [
    "# Data Cleansing"
   ]
  },
  {
   "cell_type": "markdown",
   "id": "78f6bd58-4500-4e56-9781-84822d017f35",
   "metadata": {},
   "source": [
    "## Drop Columns "
   ]
  },
  {
   "cell_type": "code",
   "execution_count": null,
   "id": "469c2711-754d-4014-9cb7-d1785ed5b399",
   "metadata": {},
   "outputs": [],
   "source": [
    "# Drop irrelevant columns\n",
    "\n",
    "df.drop(columns=[\"ID\"], inplace=True)\n",
    "df.head()"
   ]
  },
  {
   "cell_type": "markdown",
   "id": "7f521fbf-46ef-4d92-b53f-4e034bf69ab1",
   "metadata": {},
   "source": [
    "## Rename Columns"
   ]
  },
  {
   "cell_type": "code",
   "execution_count": null,
   "id": "8590d8c0",
   "metadata": {},
   "outputs": [],
   "source": [
    "# Rename Target Column\n",
    "\n",
    "df = df.rename(columns={\"default.payment.next.month\": \"Default\"})"
   ]
  },
  {
   "cell_type": "code",
   "execution_count": null,
   "id": "5212b3f8",
   "metadata": {},
   "outputs": [],
   "source": [
    "# Convert column names to have only the first letter capitalized\n",
    "\n",
    "df.columns = df.columns.str.capitalize()\n",
    "\n",
    "df.head()"
   ]
  },
  {
   "cell_type": "markdown",
   "id": "d2f97d1a-4af6-41be-b295-0de78be0c961",
   "metadata": {},
   "source": [
    "# Exploratory Data Analysis "
   ]
  },
  {
   "cell_type": "markdown",
   "id": "9c315cd9-d9e2-45f0-8a32-6e3b1bee9ca4",
   "metadata": {},
   "source": [
    "## Distribution"
   ]
  },
  {
   "cell_type": "code",
   "execution_count": null,
   "id": "5cebf58a",
   "metadata": {},
   "outputs": [],
   "source": [
    "# Distribution\n",
    "\n",
    "# Loop through each numerical feature\n",
    "for numerical_feature in df.columns:\n",
    "    # Creating two subplots per numerical_feature\n",
    "    fig, ax = plt.subplots(1, 2, figsize=(10, 3))\n",
    "\n",
    "    # Histogram to get an overview of the distribution of each numerical_feature\n",
    "    ax[0].set_title(f\"Distribution of: {numerical_feature}\")\n",
    "    ax[0].hist(df[numerical_feature], bins=30, color=\"blue\", alpha=0.7, edgecolor=\"black\")\n",
    "\n",
    "    # Adding kernel density estimate (KDE)\n",
    "    kde_x = np.linspace(df[numerical_feature].min(), df[numerical_feature].max(), 100)\n",
    "    kde_y = np.exp(-0.5 * ((kde_x - df[numerical_feature].mean()) / df[numerical_feature].std()) ** 2) / (\n",
    "        df[numerical_feature].std() * np.sqrt(2 * np.pi)\n",
    "    )\n",
    "    ax[0].plot(kde_x, kde_y, color=\"orange\")\n",
    "\n",
    "    # Boxplot to detect outliers\n",
    "    ax[1].set_title(f\"Boxplot of: {numerical_feature}\")\n",
    "    ax[1].boxplot(df[numerical_feature], patch_artist=True, boxprops=dict(facecolor=\"green\", color=\"black\"))\n",
    "\n",
    "    plt.tight_layout()\n",
    "    plt.show()"
   ]
  },
  {
   "cell_type": "markdown",
   "id": "3fc6ba67-b8c9-4ad7-90c0-04b66b19f8f8",
   "metadata": {},
   "source": [
    "## Correct Unknown Values Education/Marriage/Pay"
   ]
  },
  {
   "cell_type": "code",
   "execution_count": null,
   "id": "f2ff8b43",
   "metadata": {},
   "outputs": [],
   "source": [
    "df.Education.value_counts()"
   ]
  },
  {
   "cell_type": "code",
   "execution_count": null,
   "id": "d336e69e",
   "metadata": {},
   "outputs": [],
   "source": [
    "# Replace 0, 5, and 6 with 4 in the Education column (for simplification, they represent the same)\n",
    "\n",
    "df[\"Education\"] = df[\"Education\"].replace({0: 4, 5: 4, 6: 4})\n",
    "\n",
    "print(df[\"Education\"].value_counts())"
   ]
  },
  {
   "cell_type": "code",
   "execution_count": null,
   "id": "8c2114f9",
   "metadata": {},
   "outputs": [],
   "source": [
    "df.Marriage.value_counts()"
   ]
  },
  {
   "cell_type": "code",
   "execution_count": null,
   "id": "13dae2ce",
   "metadata": {},
   "outputs": [],
   "source": [
    "# Replace 0 with 3 in the Marriage column (for simplification, they represent the same)\n",
    "\n",
    "df[\"Marriage\"] = df[\"Marriage\"].replace({0: 3})\n",
    "\n",
    "# Display the updated value counts\n",
    "print(df[\"Marriage\"].value_counts())"
   ]
  },
  {
   "cell_type": "code",
   "execution_count": null,
   "id": "38ad2f60",
   "metadata": {},
   "outputs": [],
   "source": [
    "# Replace -1, -2, with 0 in the Pay columns (for simplification, they represent the same)\n",
    "\n",
    "columns_to_replace = [\"Pay_0\", \"Pay_2\", \"Pay_3\", \"Pay_4\", \"Pay_5\", \"Pay_6\"]\n",
    "\n",
    "df[columns_to_replace] = df[columns_to_replace].replace({-1: 0, -2: 0})\n",
    "\n",
    "# Display the updated DataFrame\n",
    "print(df[\"Pay_6\"].value_counts())"
   ]
  },
  {
   "cell_type": "markdown",
   "id": "111bd917-c6b1-40d6-b3f1-c10bfa2e33fe",
   "metadata": {},
   "source": [
    "## Check Balance"
   ]
  },
  {
   "cell_type": "code",
   "execution_count": null,
   "id": "fb1074d8",
   "metadata": {},
   "outputs": [],
   "source": [
    "# Count the occurrences of each value in the 'Exited' column\n",
    "exit_counts = df[\"Default\"].value_counts()\n",
    "\n",
    "# Custom labels for the pie chart\n",
    "labels = [\"Non-Default\", \"Default\"]\n",
    "\n",
    "# Plotting a pie chart for the 'Exited' column with custom labels\n",
    "plt.figure(figsize=(6, 6))\n",
    "plt.pie(exit_counts, labels=labels, autopct=\"%1.1f%%\", startangle=90, colors=[\"skyblue\", \"lightgreen\"])\n",
    "plt.title(\"Overall Default Rate Distribution\")\n",
    "plt.axis(\"equal\")  # Equal aspect ratio ensures that pie is drawn as a circle\n",
    "\n",
    "plt.show()"
   ]
  },
  {
   "cell_type": "markdown",
   "id": "2f323fd9-90e1-4f3f-86ae-7b16e17049b9",
   "metadata": {},
   "source": [
    "# Preprocessing"
   ]
  },
  {
   "cell_type": "code",
   "execution_count": null,
   "id": "cd2bb807-2c39-43ca-b53d-c78050ec5c3a",
   "metadata": {},
   "outputs": [],
   "source": [
    "df.columns"
   ]
  },
  {
   "cell_type": "code",
   "execution_count": null,
   "id": "1e8d6938",
   "metadata": {},
   "outputs": [],
   "source": [
    "# Prepocessor\n",
    "\n",
    "# Select Features\n",
    "features_robust = [\n",
    "    \"Limit_bal\",\n",
    "    \"Bill_amt1\",\n",
    "    \"Bill_amt2\",\n",
    "    \"Bill_amt3\",\n",
    "    \"Bill_amt4\",\n",
    "    \"Bill_amt5\",\n",
    "    \"Bill_amt6\",\n",
    "    \"Pay_amt1\",\n",
    "    \"Pay_amt2\",\n",
    "    \"Pay_amt3\",\n",
    "    \"Pay_amt4\",\n",
    "    \"Pay_amt5\",\n",
    "    \"Pay_amt6\",\n",
    "]\n",
    "\n",
    "# Define features and target\n",
    "X = df.drop(columns=[\"Default\"])\n",
    "y = df[\"Default\"]\n",
    "\n",
    "# Column Transformer for scaling\n",
    "preprocessor = ColumnTransformer(\n",
    "    transformers=[\n",
    "        (\"robust_scaler\", RobustScaler(), features_robust)  # Apply RobustScaler to the selected features\n",
    "    ],\n",
    "    remainder=\"passthrough\",  # Keep other columns unchanged\n",
    ")\n",
    "\n",
    "preprocessor"
   ]
  },
  {
   "cell_type": "markdown",
   "id": "5c87ae8d-93b4-4e0e-beef-22c9e723cc80",
   "metadata": {},
   "source": [
    "# Modeling"
   ]
  },
  {
   "cell_type": "code",
   "execution_count": null,
   "id": "72cbb6b2",
   "metadata": {},
   "outputs": [],
   "source": [
    "# Split Data\n",
    "\n",
    "X_train, X_temp, y_train, y_temp = train_test_split(X, y, test_size=0.30, random_state=42, stratify=y)\n",
    "X_val, X_test, y_val, y_test = train_test_split(X_temp, y_temp, test_size=0.5, random_state=42, stratify=y_temp)"
   ]
  },
  {
   "cell_type": "code",
   "execution_count": null,
   "id": "3f3c07ce-cce5-4305-948c-36ac80e8f7a5",
   "metadata": {},
   "outputs": [],
   "source": [
    "X_train.shape, X_val.shape, X_test.shape"
   ]
  },
  {
   "cell_type": "code",
   "execution_count": null,
   "id": "bdaed1ed-b99b-4a13-b60b-3fff9a9c22b9",
   "metadata": {},
   "outputs": [],
   "source": [
    "# Fit the preprocessor on the training set and transform both training and validation sets\n",
    "X_train_scaled = preprocessor.fit_transform(X_train)\n",
    "X_val_scaled = preprocessor.transform(X_val)\n",
    "X_test_scaled = preprocessor.transform(X_test)\n",
    "\n",
    "# Apply SMOTE to the training set\n",
    "smote = SMOTE(random_state=42)\n",
    "\n",
    "X_train_resampled, y_train_resampled = smote.fit_resample(X_train_scaled, y_train)"
   ]
  },
  {
   "cell_type": "code",
   "execution_count": null,
   "id": "8c285a5d-aa93-486c-8037-e8997d7afd40",
   "metadata": {},
   "outputs": [],
   "source": [
    "y_train_resampled.value_counts()"
   ]
  },
  {
   "cell_type": "code",
   "execution_count": null,
   "id": "09a5f766-420f-421b-a975-fdcbeae53576",
   "metadata": {},
   "outputs": [],
   "source": [
    "# Create and fit the model\n",
    "model = LGBMClassifier(objective=\"binary\", learning_rate=0.05)\n",
    "\n",
    "model.fit(\n",
    "    X_train_resampled,\n",
    "    y_train_resampled,\n",
    "    eval_metric=\"logloss\",\n",
    "    eval_set=[(X_val_scaled, y_val)],\n",
    ")\n",
    "\n",
    "# Validate the model on the validation set\n",
    "y_pred_val = model.predict(X_val_scaled)\n",
    "y_pred_proba_val = model.predict_proba(X_val_scaled)[:, 1]  # Get probabilities for the positive class\n",
    "\n",
    "# Calculate AUC score\n",
    "auc_val = roc_auc_score(y_val, y_pred_proba_val)\n",
    "print(\"Validation AUC:\", auc_val)\n",
    "\n",
    "# Confusion Matrix and Classification Report\n",
    "conf_matrix = confusion_matrix(y_val, y_pred_val)\n",
    "class_report = classification_report(y_val, y_pred_val)\n",
    "\n",
    "print(\"\\nConfusion Matrix:\\n\", conf_matrix)\n",
    "print(\"\\nClassification Report:\\n\", class_report)"
   ]
  },
  {
   "cell_type": "code",
   "execution_count": null,
   "id": "4f97e520-62b6-4844-9607-7dff431abcae",
   "metadata": {},
   "outputs": [],
   "source": [
    "# Validate the model on the test set\n",
    "y_pred_test = model.predict(X_test_scaled)\n",
    "y_pred_proba_test = model.predict_proba(X_test_scaled)[:, 1]  # Get probabilities for the positive class\n",
    "\n",
    "# Calculate AUC score on test set\n",
    "auc_test = roc_auc_score(y_test, y_pred_proba_test)\n",
    "print(\"Test AUC:\", auc_test)\n",
    "\n",
    "# Confusion Matrix and Classification Report for test set\n",
    "conf_matrix_test = confusion_matrix(y_test, y_pred_test)\n",
    "class_report_test = classification_report(y_test, y_pred_test)\n",
    "\n",
    "print(\"\\nTest Confusion Matrix:\\n\", conf_matrix_test)\n",
    "print(\"\\nTest Classification Report:\\n\", class_report_test)"
   ]
  },
  {
   "cell_type": "code",
   "execution_count": null,
   "id": "0f8de722-42ed-47b4-96b7-1a17eacb3c19",
   "metadata": {},
   "outputs": [],
   "source": [
    "# Define the LightGBM model\n",
    "model = LGBMClassifier(objective=\"binary\", force_row_wise=True)\n",
    "\n",
    "# Define the parameter grid\n",
    "param_grid = {\n",
    "    \"boosting_type\": [\"gbdt\", \"dart\"],\n",
    "    \"learning_rate\": [0.01, 0.05, 0.1],\n",
    "}\n",
    "\n",
    "# Create the GridSearchCV object\n",
    "grid_search = GridSearchCV(estimator=model, param_grid=param_grid, scoring=\"roc_auc\", cv=2, verbose=1, n_jobs=-1)\n",
    "\n",
    "# Fit the GridSearchCV\n",
    "grid_search.fit(X_train_resampled, y_train_resampled)\n",
    "\n",
    "# Best parameters and score\n",
    "best_params = grid_search.best_params_\n",
    "best_score = grid_search.best_score_\n",
    "\n",
    "print(\"Best Parameters:\", best_params)\n",
    "print(\"Best Cross-Validation AUC Score:\", best_score)\n",
    "\n",
    "# Validate the model on the validation set using the best estimator from GridSearchCV\n",
    "best_model = grid_search.best_estimator_\n",
    "y_pred_val = best_model.predict(X_val_scaled)\n",
    "y_pred_proba_val = best_model.predict_proba(X_val_scaled)[:, 1]  # Get probabilities for the positive class\n",
    "\n",
    "# Calculate AUC score\n",
    "auc_val = roc_auc_score(y_val, y_pred_proba_val)\n",
    "print(\"Validation AUC:\", auc_val)\n",
    "\n",
    "# Confusion Matrix and Classification Report\n",
    "conf_matrix = confusion_matrix(y_val, y_pred_val)\n",
    "class_report = classification_report(y_val, y_pred_val)\n",
    "\n",
    "print(\"\\nConfusion Matrix:\\n\", conf_matrix)\n",
    "print(\"\\nClassification Report:\\n\", class_report)"
   ]
  },
  {
   "cell_type": "code",
   "execution_count": null,
   "id": "d80a9328-14a2-4719-a03b-a93977bc01af",
   "metadata": {},
   "outputs": [],
   "source": [
    "# Validate the model on the test set\n",
    "y_pred_test = model.predict(X_test_scaled)\n",
    "y_pred_proba_test = model.predict_proba(X_test_scaled)[:, 1]  # Get probabilities for the positive class\n",
    "\n",
    "# Calculate AUC score on test set\n",
    "auc_test = roc_auc_score(y_test, y_pred_proba_test)\n",
    "print(\"Test AUC:\", auc_test)\n",
    "\n",
    "# Confusion Matrix and Classification Report for test set\n",
    "conf_matrix_test = confusion_matrix(y_test, y_pred_test)\n",
    "class_report_test = classification_report(y_test, y_pred_test)\n",
    "\n",
    "print(\"\\nTest Confusion Matrix:\\n\", conf_matrix_test)\n",
    "print(\"\\nTest Classification Report:\\n\", class_report_test)"
   ]
  },
  {
   "cell_type": "code",
   "execution_count": null,
   "id": "bd04d612-a706-4a1c-a277-dff4be642386",
   "metadata": {},
   "outputs": [],
   "source": []
  },
  {
   "cell_type": "code",
   "execution_count": null,
   "id": "5d0f0b40-b27d-4de0-9118-f52e31ce8a1a",
   "metadata": {},
   "outputs": [],
   "source": []
  },
  {
   "cell_type": "code",
   "execution_count": null,
   "id": "b22d6a92-7065-4f40-ab39-d083f8580525",
   "metadata": {},
   "outputs": [],
   "source": []
  },
  {
   "cell_type": "code",
   "execution_count": null,
   "id": "20b44a33-af12-437b-8b10-2a7b4d80d6e5",
   "metadata": {},
   "outputs": [],
   "source": []
  },
  {
   "cell_type": "code",
   "execution_count": null,
   "id": "02ebd180-0e31-4bfe-b1dd-8ab17a287e5f",
   "metadata": {},
   "outputs": [],
   "source": []
  }
 ],
 "metadata": {
  "kernelspec": {
   "display_name": "Python 3 (ipykernel)",
   "language": "python",
   "name": "python3"
  },
  "language_info": {
   "codemirror_mode": {
    "name": "ipython",
    "version": 3
   },
   "file_extension": ".py",
   "mimetype": "text/x-python",
   "name": "python",
   "nbconvert_exporter": "python",
   "pygments_lexer": "ipython3",
   "version": "3.12.4"
  }
 },
 "nbformat": 4,
 "nbformat_minor": 5
}
